{
 "cells": [
  {
   "cell_type": "markdown",
   "metadata": {},
   "source": [
    "# Method 2"
   ]
  },
  {
   "cell_type": "markdown",
   "metadata": {},
   "source": [
    "Extracting plane polygon based on the segmented roof plane point clouds, then organize them as 3D roof structures"
   ]
  },
  {
   "cell_type": "markdown",
   "metadata": {},
   "source": [
    "### Imported libraries"
   ]
  },
  {
   "cell_type": "code",
   "execution_count": 1,
   "metadata": {},
   "outputs": [],
   "source": [
    "import os\n",
    "import numpy as np\n",
    "import laspy as lp\n",
    "import open3d as o3d\n",
    "import geopandas as gpd\n",
    "import laspy as lp\n",
    "import matplotlib.pyplot as plt\n",
    "from shapely.geometry import Point\n"
   ]
  },
  {
   "cell_type": "markdown",
   "metadata": {},
   "source": [
    "### Data \n"
   ]
  },
  {
   "cell_type": "code",
   "execution_count": 2,
   "metadata": {},
   "outputs": [],
   "source": [
    "pointcloud_data = \"sample_roofdata_50\"\n",
    "footprint_data = \"cropped_data/clipped_final_area.shp\""
   ]
  },
  {
   "cell_type": "markdown",
   "metadata": {},
   "source": [
    "### 3D models "
   ]
  },
  {
   "cell_type": "code",
   "execution_count": null,
   "metadata": {},
   "outputs": [
    {
     "name": "stdout",
     "output_type": "stream",
     "text": [
      "Detected 2 patches\n",
      "Detected 2 patches\n"
     ]
    },
    {
     "name": "stderr",
     "output_type": "stream",
     "text": [
      "2025-03-15 14:05:33.986 Python[25767:726207] +[IMKClient subclass]: chose IMKClient_Modern\n",
      "2025-03-15 14:05:33.986 Python[25767:726207] +[IMKInputSession subclass]: chose IMKInputSession_Modern\n"
     ]
    },
    {
     "name": "stdout",
     "output_type": "stream",
     "text": [
      "Detected 2 patches\n",
      "Detected 5 patches\n",
      "Detected 3 patches\n",
      "Detected 2 patches\n",
      "Detected 4 patches\n",
      "Detected 6 patches\n",
      "Detected 7 patches\n",
      "Detected 6 patches\n",
      "Detected 2 patches\n",
      "Detected 4 patches\n"
     ]
    }
   ],
   "source": [
    "for roof in os.listdir(pointcloud_data):\n",
    "    if roof.endswith(\".laz\"):\n",
    "        file_path = os.path.join(pointcloud_data, roof)\n",
    "        \n",
    "        with lp.open(file_path, laz_backend=lp.LazBackend) as fh:\n",
    "            las_data = fh.read()\n",
    "            x = las_data.x\n",
    "            y = las_data.y\n",
    "            z = las_data.z\n",
    "            r = las_data.red\n",
    "            g = las_data.green\n",
    "            b = las_data.blue\n",
    "            \n",
    "\n",
    "            #Normalize RGB values to [0,1]\n",
    "            if np.max(r) > 255:  # If 16-bit, convert to 8-bit\n",
    "                r = r / 65535\n",
    "                g = g / 65535\n",
    "                b = b / 65535\n",
    "            else:  # If already 8-bit\n",
    "                r = r / 255\n",
    "                g = g / 255\n",
    "                b = b / 255\n",
    "\n",
    "            # Create RGB color array in shape (N,3)\n",
    "            colors = np.vstack((r, g, b)).T  \n",
    "            points = np.vstack((las_data.x, las_data.y, las_data.z)).T  #(N,3) array\n",
    "\n",
    "            #planar patch detection\n",
    "            pcd = o3d.geometry.PointCloud()\n",
    "            pcd.points = o3d.utility.Vector3dVector(points)\n",
    "            pcd.estimate_normals(search_param=o3d.geometry.KDTreeSearchParamKNN(knn=30))\n",
    "            assert (pcd.has_normals())\n",
    "            oboxes = pcd.detect_planar_patches(\n",
    "                normal_variance_threshold_deg=15,\n",
    "                coplanarity_deg=50,\n",
    "                outlier_ratio=5,\n",
    "                min_plane_edge_length=3,\n",
    "                min_num_points=0,\n",
    "                search_param=o3d.geometry.KDTreeSearchParamKNN(knn=50)\n",
    "                )\n",
    "\n",
    "            print(\"Detected {} patches\".format(len(oboxes)))\n",
    "\n",
    "            geometries = []\n",
    "            for obox in oboxes:\n",
    "                mesh = o3d.geometry.TriangleMesh.create_from_oriented_bounding_box(obox)\n",
    "                mesh.paint_uniform_color(obox.color)\n",
    "                geometries.append(mesh)\n",
    "                geometries.append(obox)\n",
    "            geometries.append(pcd)\n",
    "            \n",
    "            o3d.visualization.draw_geometries(geometries,\n",
    "                                              zoom=0.62,\n",
    "                                  )\n",
    "            \n"
   ]
  },
  {
   "cell_type": "code",
   "execution_count": 3,
   "metadata": {},
   "outputs": [
    {
     "data": {
      "text/html": [
       "<div>\n",
       "<style scoped>\n",
       "    .dataframe tbody tr th:only-of-type {\n",
       "        vertical-align: middle;\n",
       "    }\n",
       "\n",
       "    .dataframe tbody tr th {\n",
       "        vertical-align: top;\n",
       "    }\n",
       "\n",
       "    .dataframe thead th {\n",
       "        text-align: right;\n",
       "    }\n",
       "</style>\n",
       "<table border=\"1\" class=\"dataframe\">\n",
       "  <thead>\n",
       "    <tr style=\"text-align: right;\">\n",
       "      <th></th>\n",
       "      <th>osm_id</th>\n",
       "      <th>code</th>\n",
       "      <th>fclass</th>\n",
       "      <th>name</th>\n",
       "      <th>type</th>\n",
       "      <th>geometry</th>\n",
       "      <th>corners</th>\n",
       "    </tr>\n",
       "  </thead>\n",
       "  <tbody>\n",
       "    <tr>\n",
       "      <th>0</th>\n",
       "      <td>5079678</td>\n",
       "      <td>1500</td>\n",
       "      <td>building</td>\n",
       "      <td>Trondheim rådhus</td>\n",
       "      <td>public</td>\n",
       "      <td>POLYGON ((569712.622 7034071.974, 569716.694 7...</td>\n",
       "      <td>[POINT (569712.6216782562 7034071.974002578), ...</td>\n",
       "    </tr>\n",
       "    <tr>\n",
       "      <th>1</th>\n",
       "      <td>17693566</td>\n",
       "      <td>1500</td>\n",
       "      <td>building</td>\n",
       "      <td>Donjon</td>\n",
       "      <td>None</td>\n",
       "      <td>POLYGON ((570407.846 7033920.271, 570393.136 7...</td>\n",
       "      <td>[POINT (570407.8464293351 7033920.2707800865),...</td>\n",
       "    </tr>\n",
       "    <tr>\n",
       "      <th>2</th>\n",
       "      <td>19145582</td>\n",
       "      <td>1500</td>\n",
       "      <td>building</td>\n",
       "      <td>Trondheim døvekirke</td>\n",
       "      <td>church</td>\n",
       "      <td>POLYGON ((569828.869 7032858.683, 569829.349 7...</td>\n",
       "      <td>[POINT (569828.8686698809 7032858.682878285), ...</td>\n",
       "    </tr>\n",
       "    <tr>\n",
       "      <th>3</th>\n",
       "      <td>22811509</td>\n",
       "      <td>1500</td>\n",
       "      <td>building</td>\n",
       "      <td>Byåsen butikksenter</td>\n",
       "      <td>retail</td>\n",
       "      <td>POLYGON ((567499.029 7032887.369, 567499.389 7...</td>\n",
       "      <td>[POINT (567499.0288805708 7032887.368571803), ...</td>\n",
       "    </tr>\n",
       "    <tr>\n",
       "      <th>4</th>\n",
       "      <td>22915083</td>\n",
       "      <td>1500</td>\n",
       "      <td>building</td>\n",
       "      <td>Bunnpris &amp; Gourmet Tyholt</td>\n",
       "      <td>retail</td>\n",
       "      <td>POLYGON ((571438.583 7033094.082, 571441.699 7...</td>\n",
       "      <td>[POINT (571438.5825759375 7033094.081795346), ...</td>\n",
       "    </tr>\n",
       "  </tbody>\n",
       "</table>\n",
       "</div>"
      ],
      "text/plain": [
       "     osm_id  code    fclass                       name    type  \\\n",
       "0   5079678  1500  building           Trondheim rådhus  public   \n",
       "1  17693566  1500  building                     Donjon    None   \n",
       "2  19145582  1500  building        Trondheim døvekirke  church   \n",
       "3  22811509  1500  building        Byåsen butikksenter  retail   \n",
       "4  22915083  1500  building  Bunnpris & Gourmet Tyholt  retail   \n",
       "\n",
       "                                            geometry  \\\n",
       "0  POLYGON ((569712.622 7034071.974, 569716.694 7...   \n",
       "1  POLYGON ((570407.846 7033920.271, 570393.136 7...   \n",
       "2  POLYGON ((569828.869 7032858.683, 569829.349 7...   \n",
       "3  POLYGON ((567499.029 7032887.369, 567499.389 7...   \n",
       "4  POLYGON ((571438.583 7033094.082, 571441.699 7...   \n",
       "\n",
       "                                             corners  \n",
       "0  [POINT (569712.6216782562 7034071.974002578), ...  \n",
       "1  [POINT (570407.8464293351 7033920.2707800865),...  \n",
       "2  [POINT (569828.8686698809 7032858.682878285), ...  \n",
       "3  [POINT (567499.0288805708 7032887.368571803), ...  \n",
       "4  [POINT (571438.5825759375 7033094.081795346), ...  "
      ]
     },
     "execution_count": 3,
     "metadata": {},
     "output_type": "execute_result"
    }
   ],
   "source": [
    "footprint = gpd.read_file(footprint_data)\n",
    "footprint = footprint.to_crs(25832)\n",
    "\n",
    "#Get corners from buildings\n",
    "def extract_corners(polygon):\n",
    "    if polygon.geom_type == \"Polygon\":\n",
    "        return [Point(x, y) for x, y in polygon.exterior.coords] \n",
    "    elif polygon.geom_type == \"MultiPolygon\":\n",
    "        return [Point(x, y) for poly in polygon.geoms for x, y in poly.exterior.coords] \n",
    "    else:\n",
    "        return None  \n",
    "\n",
    "footprint[\"corners\"] = footprint[\"geometry\"].apply(extract_corners)\n",
    "\n",
    "footprint = footprint.to_crs(25832)\n",
    "footprint.head()"
   ]
  },
  {
   "cell_type": "code",
   "execution_count": null,
   "metadata": {},
   "outputs": [
    {
     "name": "stdout",
     "output_type": "stream",
     "text": [
      "Detected 2 patches\n"
     ]
    }
   ],
   "source": [
    "\n",
    "pointcloud_data = \"sample_roofdata_50\"\n",
    "roof_geometries = []\n",
    "\n",
    "for roof in os.listdir(pointcloud_data):\n",
    "    if roof.endswith(\".laz\"):\n",
    "        file_path = os.path.join(pointcloud_data, roof)\n",
    "        \n",
    "        with lp.open(file_path, laz_backend=lp.LazBackend) as fh:\n",
    "            las_data = fh.read()\n",
    "            x = las_data.x\n",
    "            y = las_data.y\n",
    "            z = las_data.z\n",
    "            r = las_data.red\n",
    "            g = las_data.green\n",
    "            b = las_data.blue\n",
    "            \n",
    "\n",
    "            # 🎨 Normalize RGB values to [0,1]\n",
    "            if np.max(r) > 255:  # If 16-bit, convert to 8-bit\n",
    "                r = r / 65535\n",
    "                g = g / 65535\n",
    "                b = b / 65535\n",
    "            else:  # If already 8-bit\n",
    "                r = r / 255\n",
    "                g = g / 255\n",
    "                b = b / 255\n",
    "\n",
    "            # Create RGB color array in shape (N,3)\n",
    "            colors = np.vstack((r, g, b)).T  \n",
    "\n",
    "            points = np.vstack((las_data.x, las_data.y, las_data.z)).T  # (N,3) array\n",
    "\n",
    "\n",
    "            pcd = o3d.geometry.PointCloud()\n",
    "            \n",
    "            pcd.points = o3d.utility.Vector3dVector(points)\n",
    "            pcd.estimate_normals(search_param=o3d.geometry.KDTreeSearchParamKNN(knn=30))\n",
    "            assert (pcd.has_normals())\n",
    "            oboxes = pcd.detect_planar_patches(\n",
    "            \n",
    "            normal_variance_threshold_deg=15,\n",
    "            \n",
    "            coplanarity_deg=50,\n",
    "            \n",
    "            outlier_ratio=5,\n",
    "            \n",
    "            min_plane_edge_length=3,\n",
    "            \n",
    "            min_num_points=0,\n",
    "            \n",
    "            search_param=o3d.geometry.KDTreeSearchParamKNN(knn=50))\n",
    "\n",
    "            print(\"Detected {} patches\".format(len(oboxes)))\n",
    "\n",
    "            geometries = []\n",
    "            for obox in oboxes:\n",
    "                mesh = o3d.geometry.TriangleMesh.create_from_oriented_bounding_box(obox)\n",
    "                mesh.paint_uniform_color(obox.color)\n",
    "                geometries.append(mesh)\n",
    "                geometries.append(obox)\n",
    "                center = obox.get_center()\n",
    "            geometries.append(pcd)\n",
    "            center_point = Point(float(center[0]), float(center[1])) \n",
    "                 \n",
    "            \n",
    "            o3d.visualization.draw_geometries(geometries,\n",
    "                                              zoom=0.62,\n",
    "                                  )\n",
    "            roof_geometries.append({\n",
    "                'roof_id': roof,  \n",
    "                'x': x,\n",
    "                'y': y,\n",
    "                'z': z,\n",
    "                'NumberOfCorners': geometries[0],\n",
    "                'center_point' : center_point,\n",
    "                'Polygon': geometries,\n",
    "                \n",
    "\n",
    "            })\n",
    "\n",
    "            gdf_roofs = gpd.GeoDataFrame(roof_geometries)\n",
    "            \n",
    "\n",
    "gdf_roofs = gdf_roofs.set_geometry(\"center_point\")\n",
    "gdf_roofs = gdf_roofs.set_crs(25832)\n",
    "gdf_roofs.head()\n",
    "\n",
    "        "
   ]
  },
  {
   "cell_type": "code",
   "execution_count": 1,
   "metadata": {},
   "outputs": [
    {
     "ename": "NameError",
     "evalue": "name 'footprint' is not defined",
     "output_type": "error",
     "traceback": [
      "\u001b[0;31m---------------------------------------------------------------------------\u001b[0m",
      "\u001b[0;31mNameError\u001b[0m                                 Traceback (most recent call last)",
      "Cell \u001b[0;32mIn[1], line 2\u001b[0m\n\u001b[1;32m      1\u001b[0m \u001b[38;5;66;03m# dataframe where buildings is connected with the nearest roof\u001b[39;00m\n\u001b[0;32m----> 2\u001b[0m footprint \u001b[38;5;241m=\u001b[39m \u001b[43mfootprint\u001b[49m\u001b[38;5;241m.\u001b[39mto_crs(\u001b[38;5;241m25832\u001b[39m)\n\u001b[1;32m      3\u001b[0m gdf_roofs \u001b[38;5;241m=\u001b[39m gdf_roofs\u001b[38;5;241m.\u001b[39mto_crs(\u001b[38;5;241m25832\u001b[39m)\n\u001b[1;32m      5\u001b[0m combined_footprint_pointcloud: gpd\u001b[38;5;241m.\u001b[39mGeoDataFrame \u001b[38;5;241m=\u001b[39m footprint\u001b[38;5;241m.\u001b[39msjoin_nearest(gdf_roofs, how\u001b[38;5;241m=\u001b[39m\u001b[38;5;124m\"\u001b[39m\u001b[38;5;124minner\u001b[39m\u001b[38;5;124m\"\u001b[39m, distance_col\u001b[38;5;241m=\u001b[39m\u001b[38;5;124m\"\u001b[39m\u001b[38;5;124mdistance\u001b[39m\u001b[38;5;124m\"\u001b[39m, max_distance\u001b[38;5;241m=\u001b[39m\u001b[38;5;241m5\u001b[39m)\n",
      "\u001b[0;31mNameError\u001b[0m: name 'footprint' is not defined"
     ]
    }
   ],
   "source": [
    "# dataframe where buildings is connected with the nearest roof\n",
    "footprint = footprint.to_crs(25832)\n",
    "gdf_roofs = gdf_roofs.to_crs(25832)\n",
    "\n",
    "combined_footprint_pointcloud: gpd.GeoDataFrame = footprint.sjoin_nearest(gdf_roofs, how=\"inner\", distance_col=\"distance\", max_distance=5)\n",
    "combined_footprint_pointcloud.head()\n",
    "\n"
   ]
  }
 ],
 "metadata": {
  "kernelspec": {
   "display_name": ".venv",
   "language": "python",
   "name": "python3"
  },
  "language_info": {
   "codemirror_mode": {
    "name": "ipython",
    "version": 3
   },
   "file_extension": ".py",
   "mimetype": "text/x-python",
   "name": "python",
   "nbconvert_exporter": "python",
   "pygments_lexer": "ipython3",
   "version": "3.12.2"
  }
 },
 "nbformat": 4,
 "nbformat_minor": 2
}
