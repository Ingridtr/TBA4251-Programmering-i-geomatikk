{
 "cells": [
  {
   "cell_type": "code",
   "execution_count": 4,
   "metadata": {},
   "outputs": [],
   "source": [
    "import os\n",
    "import laspy as lp\n",
    "import numpy as np\n",
    "import pylas"
   ]
  },
  {
   "cell_type": "code",
   "execution_count": 5,
   "metadata": {},
   "outputs": [
    {
     "name": "stdout",
     "output_type": "stream",
     "text": [
      "{'182130478.laz': {'point_count': 1431}, '10566010.laz': {'point_count': 610}, '182250287.laz': {'point_count': 2762}, '182213209.laz': {'point_count': 3732}, '182461407.laz': {'point_count': 1463}, '182380105.laz': {'point_count': 2242}, '182251615.laz': {'point_count': 3642}, '182221864.laz': {'point_count': 3215}, '182486507.laz': {'point_count': 7653}, '182251399.laz': {'point_count': 4449}, '10565839.laz': {'point_count': 514}, '182307580.laz': {'point_count': 1702}, '182294063.laz': {'point_count': 1494}, '10529360.laz': {'point_count': 2571}, '182292761.laz': {'point_count': 1134}, '10479436.laz': {'point_count': 1571}, '182311324.laz': {'point_count': 4134}, '182217581.laz': {'point_count': 2518}, '182461857.laz': {'point_count': 3411}, '182379476.laz': {'point_count': 2605}, '300426167.laz': {'point_count': 895}, '182218669.laz': {'point_count': 4005}, '182274798.laz': {'point_count': 4121}, '10529379.laz': {'point_count': 2561}, '182172235.laz': {'point_count': 18538}, '21028401.laz': {'point_count': 1665}, '10468485.laz': {'point_count': 1991}, '182390828.laz': {'point_count': 1586}, '182278629.laz': {'point_count': 1644}, '182286044.laz': {'point_count': 2061}, '10444144.laz': {'point_count': 1403}, '182337978.laz': {'point_count': 2505}, '182314838.laz': {'point_count': 859}, '182280240.laz': {'point_count': 521}, '182249068.laz': {'point_count': 2301}, '182282537.laz': {'point_count': 2312}, '182211613.laz': {'point_count': 1154}, '182285463.laz': {'point_count': 4324}, '10539242.laz': {'point_count': 1080}, '182127736.laz': {'point_count': 3663}, '182388971.laz': {'point_count': 1668}, '10493889.laz': {'point_count': 3506}, '21062618.laz': {'point_count': 3506}, '10519144.laz': {'point_count': 2567}, '182251224.laz': {'point_count': 3674}, '196077111.laz': {'point_count': 753}, '182148687.laz': {'point_count': 1500}, '182744999.laz': {'point_count': 1787}, '182703230.laz': {'point_count': 1109}, '182286796.laz': {'point_count': 2491}}\n"
     ]
    }
   ],
   "source": [
    "\n",
    "folder = \"sample_roofdata_50\"\n",
    "\n",
    "# Opprett en tom dictionary for å lagre informasjonen\n",
    "roofs_dict = {}\n",
    "\n",
    "# Gå gjennom filene i mappen\n",
    "for roof in os.listdir(folder):\n",
    "    if roof.endswith(\".laz\"):\n",
    "        # Lag hele filstien ved å kombinere mappen og filnavnet\n",
    "        file_path = os.path.join(folder, roof)\n",
    "        \n",
    "        # Åpne .laz-filen og hent informasjon\n",
    "        with lp.open(file_path, laz_backend=lp.LazBackend) as fh:\n",
    "            point_count = fh.header.point_count\n",
    "            \n",
    "            # Legg til informasjon i dictionary\n",
    "            roofs_dict[roof] = {\n",
    "                \"point_count\": point_count\n",
    "            }\n",
    "\n",
    "            las_data = fh.read()\n",
    "            x = las_data.x\n",
    "            y = las_data.y\n",
    "            z = las_data.z\n",
    "\n",
    "# Skriv ut dictionary for å verifisere\n",
    "print(roofs_dict)"
   ]
  }
 ],
 "metadata": {
  "kernelspec": {
   "display_name": "Python 3",
   "language": "python",
   "name": "python3"
  },
  "language_info": {
   "codemirror_mode": {
    "name": "ipython",
    "version": 3
   },
   "file_extension": ".py",
   "mimetype": "text/x-python",
   "name": "python",
   "nbconvert_exporter": "python",
   "pygments_lexer": "ipython3",
   "version": "3.12.2"
  }
 },
 "nbformat": 4,
 "nbformat_minor": 2
}
